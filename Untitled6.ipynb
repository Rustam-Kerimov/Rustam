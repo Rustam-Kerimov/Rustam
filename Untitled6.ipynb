{
  "nbformat": 4,
  "nbformat_minor": 0,
  "metadata": {
    "colab": {
      "provenance": [],
      "authorship_tag": "ABX9TyP+CEDEUfQffe93UkuArN1b",
      "include_colab_link": true
    },
    "kernelspec": {
      "name": "python3",
      "display_name": "Python 3"
    },
    "language_info": {
      "name": "python"
    }
  },
  "cells": [
    {
      "cell_type": "markdown",
      "metadata": {
        "id": "view-in-github",
        "colab_type": "text"
      },
      "source": [
        "<a href=\"https://colab.research.google.com/github/Rustam-Kerimov/Rustam/blob/main/Untitled6.ipynb\" target=\"_parent\"><img src=\"https://colab.research.google.com/assets/colab-badge.svg\" alt=\"Open In Colab\"/></a>"
      ]
    },
    {
      "cell_type": "markdown",
      "source": [
        " Условные операторы "
      ],
      "metadata": {
        "id": "6xR3ddNjdG1q"
      }
    },
    {
      "cell_type": "code",
      "execution_count": 20,
      "metadata": {
        "colab": {
          "base_uri": "https://localhost:8080/"
        },
        "id": "jz2GCqR3cM6s",
        "outputId": "b1e2ae23-a77d-4fc1-f4e0-c41b5592c041"
      },
      "outputs": [
        {
          "output_type": "stream",
          "name": "stdout",
          "text": [
            "Введите число 0.5\n",
            "положительное\n"
          ]
        }
      ],
      "source": [
        "num=input(\"Введите число\")\n",
        "if float (num) > 0:\n",
        "  print(\"положительное\")\n",
        "elif float (num) == 0:\n",
        "  print(\"ноль\")\n",
        "else:\n",
        "    print(\"отрицательное\")"
      ]
    },
    {
      "cell_type": "code",
      "source": [
        "pip install CoolProp"
      ],
      "metadata": {
        "colab": {
          "base_uri": "https://localhost:8080/"
        },
        "id": "tIm4z1K5fxDz",
        "outputId": "0c1414c6-b5f7-4125-b22a-b283a70c9e70"
      },
      "execution_count": 40,
      "outputs": [
        {
          "output_type": "stream",
          "name": "stdout",
          "text": [
            "Looking in indexes: https://pypi.org/simple, https://us-python.pkg.dev/colab-wheels/public/simple/\n",
            "Requirement already satisfied: CoolProp in /usr/local/lib/python3.10/dist-packages (6.4.3.post1)\n"
          ]
        }
      ]
    },
    {
      "cell_type": "code",
      "source": [
        "import CoolProp.CoolProp as ct\n",
        "import numpy as np\n",
        "q=700000 # расход кг/ч\n",
        "d=300 # диаметр трубы мм\n",
        "L=500 # длина м\n",
        "Δ=0.002   # отночительная шероховатость м/м\n",
        "p=300000   # давление входа Па\n",
        "T=353.15  # температура градусы Кельвина\n",
        "Fluid_name=\"water\"# название жидкости \n",
        "r=ct.PropsSI(\"D\",\"P\",p, \"T\",T, Fluid_name)\n",
        "print(\"Плотность равна=\",d, \"кг/м^2\")\n",
        "Q=q/r\n",
        "print(\"Объемный расход равен=\",Q,\"метров кубических в час\")\n",
        "F=np.pi*(d/2)**2\n",
        "print(\"площадь сечения трубы=\",F,\"миллиметров квадратных\")\n",
        "V=Q/F*1000\n",
        "print(\"Скорость расхода=\",V,\"скорость расхода в км в ч\")\n",
        "w=ct.PropsSI(\"viscosity\",\"P\",p,\"T\",T,Fluid_name)*1000\n",
        "print(\"Взкость воды равна=\",w,\"Н*мм/(м/с*м^2)\")\n",
        "Re=(d*V)/(w/r)/3.6\n",
        "print(Re)\n",
        "u=10/Δ\n",
        "z=560/Δ\n",
        "\n",
        "if Re<2300:\n",
        "  k=64/Re\n",
        "  print(\"k=\",k)\n",
        "elif Re<4000:\n",
        "  print(\"-\")\n",
        "elif Re<u:\n",
        "  k=0.3164/(Re**0.25)\n",
        "  print(\"k=\",k)\n",
        "elif Re<z:\n",
        "    k=0.11*Δ**0.25\n",
        "    print(\"k=\",k)\n",
        "else: \n",
        "  k=0.11*Δ**0.25\n",
        "  print(\"k=\",k) "
      ],
      "metadata": {
        "colab": {
          "base_uri": "https://localhost:8080/"
        },
        "id": "7qed26AWgEGG",
        "outputId": "42f435dd-823f-47f2-ef78-b09b0e4bcac2"
      },
      "execution_count": 43,
      "outputs": [
        {
          "output_type": "stream",
          "name": "stdout",
          "text": [
            "Плотность равна= 300 кг/м^2\n",
            "Объемный расход равен= 720.2539171797274 метров кубических в час\n",
            "площадь сечения трубы= 70685.83470577035 миллиметров квадратных\n",
            "Скорость расхода= 10.189508551151485 скорость расхода в км в ч\n",
            "Взкость воды равна= 0.35410406755312757 Н*мм/(м/с*м^2)\n",
            "2330523.506187265\n",
            "k= 0.02326216779569241\n"
          ]
        }
      ]
    }
  ]
}