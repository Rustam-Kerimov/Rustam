{
  "nbformat": 4,
  "nbformat_minor": 0,
  "metadata": {
    "colab": {
      "provenance": [],
      "authorship_tag": "ABX9TyOK+SwGTDimeEXtXEO40S9b",
      "include_colab_link": true
    },
    "kernelspec": {
      "name": "python3",
      "display_name": "Python 3"
    },
    "language_info": {
      "name": "python"
    }
  },
  "cells": [
    {
      "cell_type": "markdown",
      "metadata": {
        "id": "view-in-github",
        "colab_type": "text"
      },
      "source": [
        "<a href=\"https://colab.research.google.com/github/Rustam-Kerimov/Rustam/blob/main/Untitled4.ipynb\" target=\"_parent\"><img src=\"https://colab.research.google.com/assets/colab-badge.svg\" alt=\"Open In Colab\"/></a>"
      ]
    },
    {
      "cell_type": "code",
      "execution_count": 1,
      "metadata": {
        "colab": {
          "base_uri": "https://localhost:8080/"
        },
        "id": "e6KTO3f0Xb0Y",
        "outputId": "3515d1e6-da6e-474d-dd22-ad1c9d685d3d"
      },
      "outputs": [
        {
          "output_type": "stream",
          "name": "stdout",
          "text": [
            "Looking in indexes: https://pypi.org/simple, https://us-python.pkg.dev/colab-wheels/public/simple/\n",
            "Collecting CoolProp\n",
            "  Downloading CoolProp-6.4.3.post1-cp39-cp39-manylinux_2_17_x86_64.manylinux2014_x86_64.whl (6.2 MB)\n",
            "\u001b[2K     \u001b[90m━━━━━━━━━━━━━━━━━━━━━━━━━━━━━━━━━━━━━━━━\u001b[0m \u001b[32m6.2/6.2 MB\u001b[0m \u001b[31m39.3 MB/s\u001b[0m eta \u001b[36m0:00:00\u001b[0m\n",
            "\u001b[?25hInstalling collected packages: CoolProp\n",
            "Successfully installed CoolProp-6.4.3.post1\n"
          ]
        }
      ],
      "source": [
        "pip install CoolProp"
      ]
    },
    {
      "cell_type": "code",
      "source": [
        "import numpy as np\n",
        "import CoolProp.CoolProp as ct\n",
        "import matplotlib.pyplot as plt\n",
        "t=273.15\n",
        "Fluid_name='CH4'\n",
        "\n",
        "V=64\n",
        "p=101325\n",
        "d=ct.PropsSI('D','P',p,'T',t,Fluid_name)\n",
        "m=d*V\n",
        "print(m)"
      ],
      "metadata": {
        "colab": {
          "base_uri": "https://localhost:8080/"
        },
        "id": "sn4sD5eQZqB8",
        "outputId": "fa762ae6-de50-4e0d-9461-e6984e7e8475"
      },
      "execution_count": 4,
      "outputs": [
        {
          "output_type": "stream",
          "name": "stdout",
          "text": [
            "45.91736173714666\n"
          ]
        }
      ]
    },
    {
      "cell_type": "code",
      "source": [
        "import numpy as np\n",
        "import CoolProp.CoolProp as ct\n",
        "import matplotlib.pyplot as plt\n",
        "V = 64\n",
        "p = 101330\n",
        "T = 273\n",
        "R = 8.3145\n",
        "M = (0.012 + 0.001 * 4)\n",
        "\n",
        "q = 1\n",
        "\n",
        "T = np.linspace(0,600,50000)\n",
        "p = 101325\n",
        "d = ct.PropsSI('D', 'T', T, 'P', p, 'Methane')\n",
        "T1 = ct.PropsSI('T', 'P', p, 'Q', q, 'Methane')\n",
        "plt.plot(T,d)\n",
        "plt.title('d от T')\n",
        "plt.xlabel('Температура T, K')\n",
        "plt.ylabel('Плотность d, p')\n",
        "plt.scatter(111.667,0,color=\"red\")\n",
        "plt.grid()\n",
        "plt.show()\n",
        "\n",
        "print(T1)"
      ],
      "metadata": {
        "colab": {
          "base_uri": "https://localhost:8080/",
          "height": 489
        },
        "id": "I70AxldddIZt",
        "outputId": "976823e5-563f-494d-c1eb-9fb6cb0b8f6c"
      },
      "execution_count": 7,
      "outputs": [
        {
          "output_type": "display_data",
          "data": {
            "text/plain": [
              "<Figure size 640x480 with 1 Axes>"
            ],
            "image/png": "[encoded data removed]"
          },
          "metadata": {}
        },
        {
          "output_type": "stream",
          "name": "stdout",
          "text": [
            "111.66720547358071\n"
          ]
        }
      ]
    }
  ]
}